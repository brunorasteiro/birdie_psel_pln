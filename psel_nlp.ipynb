{
 "cells": [
  {
   "cell_type": "code",
   "execution_count": 1,
   "metadata": {},
   "outputs": [
    {
     "name": "stderr",
     "output_type": "stream",
     "text": [
      "[nltk_data] Downloading package punkt to /home/rasteiro/nltk_data...\n",
      "[nltk_data]   Package punkt is already up-to-date!\n"
     ]
    }
   ],
   "source": [
    "import nltk\n",
    "import nlpnet\n",
    "\n",
    "nltk.download('punkt') # download que a nlpnet necessita\n",
    "nlpnet.set_data_dir('pos-pt/') # seta diretório para alguns arquivos que a nlpnet necessita\n",
    "tagger = nlpnet.POSTagger() # instância o tagger"
   ]
  },
  {
   "cell_type": "code",
   "execution_count": 6,
   "metadata": {},
   "outputs": [],
   "source": [
    "# tenta abrir o arquivo de reviews pelo primeiro parâmetro do terminal\n",
    "# se não conseguir tenta abrir com o nome 'reviews_test_estag_nlp.txt'\n",
    "import sys\n",
    "\n",
    "try:\n",
    "    path = sys.argv[1]\n",
    "    reviews = open(path, 'r')\n",
    "except Exception as e:\n",
    "    try:\n",
    "        reviews = open('reviews_test_estag_nlp.txt', 'r')\n",
    "    except:\n",
    "        print('Erro ao abrir arquivo: ', e)\n",
    "        sys.exit()"
   ]
  },
  {
   "cell_type": "code",
   "execution_count": 7,
   "metadata": {},
   "outputs": [],
   "source": [
    "\n",
    "# linhas anotadas do arquivo\n",
    "anotado = []\n",
    "\n",
    "# trechos que devem ser identificados\n",
    "trechos = []\n",
    "\n",
    "# para cada review anota as classes e busca pelos padrões\n",
    "for review in reviews:\n",
    "\n",
    "    # remove reviews com aspas duplas ou simples\n",
    "    review = review.replace('\"', '').replace(\"'\", '')\n",
    "\n",
    "    # anota as classes\n",
    "    tags = tagger.tag(review)[0]\n",
    "    anotado.append(tags)\n",
    "\n",
    "    # percorre as tags tentando encontrar os padrões N+ADJ ou N+V+ADJ\n",
    "    for i in range(len(tags)-2):\n",
    "\n",
    "        # pega as 3 primeiras palavras (do review) e suas classes para tentar identificar um dos padrões\n",
    "        w0 = tags[i]\n",
    "        w1 = tags[i+1]\n",
    "        w2 = tags[i+2]\n",
    "\n",
    "        # se N+ADJ salva o trecho\n",
    "        if w0[1]=='N' and w1[1]=='ADJ':\n",
    "            trechos.append(w0[0] + ' ' + w1[0])\n",
    "\n",
    "        # se N+V+ADJ salva o trecho    \n",
    "        elif w0[1]=='N' and w1[1]=='V' and w2[1]=='ADJ':\n",
    "            trechos.append(w0[0] + ' ' + w1[0] + ' ' + w2[0])"
   ]
  },
  {
   "cell_type": "code",
   "execution_count": 8,
   "metadata": {},
   "outputs": [
    {
     "name": "stdout",
     "output_type": "stream",
     "text": [
      "Arquivo reviews_anotados.txt gerado.\n"
     ]
    }
   ],
   "source": [
    "# grava os reviews anotados no arquivo reviews_anotados.txt\n",
    "with open(\"reviews_anotados.txt\", 'w') as out:\n",
    "    for line in anotado:\n",
    "        out.write(str(line).replace('[', '').replace(']', '') + '\\n')\n",
    "print(\"Arquivo reviews_anotados.txt gerado.\")"
   ]
  },
  {
   "cell_type": "code",
   "execution_count": 9,
   "metadata": {},
   "outputs": [
    {
     "name": "stdout",
     "output_type": "stream",
     "text": [
      "Arquivo trechos_identificados.txt gerado.\n"
     ]
    }
   ],
   "source": [
    "# grava os trechos identificados no arquivo trechos_identificados.txt\n",
    "with open(\"trechos_identificados.txt\", 'w') as out:\n",
    "    for line in trechos:\n",
    "        out.write(line + '\\n')\n",
    "print(\"Arquivo trechos_identificados.txt gerado.\")"
   ]
  },
  {
   "cell_type": "code",
   "execution_count": null,
   "metadata": {},
   "outputs": [],
   "source": []
  }
 ],
 "metadata": {
  "kernelspec": {
   "display_name": "Python 3",
   "language": "python",
   "name": "python3"
  },
  "language_info": {
   "codemirror_mode": {
    "name": "ipython",
    "version": 3
   },
   "file_extension": ".py",
   "mimetype": "text/x-python",
   "name": "python",
   "nbconvert_exporter": "python",
   "pygments_lexer": "ipython3",
   "version": "3.5.2"
  }
 },
 "nbformat": 4,
 "nbformat_minor": 2
}
